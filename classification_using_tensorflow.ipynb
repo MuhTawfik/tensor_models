{
  "nbformat": 4,
  "nbformat_minor": 0,
  "metadata": {
    "colab": {
      "name": "classification using tensorflow.ipynb",
      "provenance": [],
      "collapsed_sections": [],
      "authorship_tag": "ABX9TyPm1cmjbffi7CD+zQb403uU",
      "include_colab_link": true
    },
    "kernelspec": {
      "name": "python3",
      "display_name": "Python 3"
    },
    "language_info": {
      "name": "python"
    }
  },
  "cells": [
    {
      "cell_type": "markdown",
      "metadata": {
        "id": "view-in-github",
        "colab_type": "text"
      },
      "source": [
        "<a href=\"https://colab.research.google.com/github/MuhTawfik/tensor_models/blob/main/classification_using_tensorflow.ipynb\" target=\"_parent\"><img src=\"https://colab.research.google.com/assets/colab-badge.svg\" alt=\"Open In Colab\"/></a>"
      ]
    },
    {
      "cell_type": "markdown",
      "source": [
        ""
      ],
      "metadata": {
        "id": "mqOVx8QX_X87"
      }
    },
    {
      "cell_type": "code",
      "execution_count": null,
      "metadata": {
        "id": "oCqoYTDn-oBp"
      },
      "outputs": [],
      "source": [
        "%tensorflow_version 2.x"
      ]
    },
    {
      "cell_type": "code",
      "source": [
        "from __future__ import absolute_import,division,print_function,unicode_literals\n",
        "import tensorflow as tf\n",
        "import pandas as pd\n"
      ],
      "metadata": {
        "id": "Ah_SMtBu_iHK"
      },
      "execution_count": null,
      "outputs": []
    },
    {
      "cell_type": "markdown",
      "source": [
        "Dataset "
      ],
      "metadata": {
        "id": "_LuN2cVF_25u"
      }
    },
    {
      "cell_type": "code",
      "source": [
        "CSV_COUMN_NAMES=['SepalLength','SpalWidth','PetalLength','PetalWidth','Species']\n",
        "SPECIES=['Setosa','Versicolor','Virginica']"
      ],
      "metadata": {
        "id": "SDH20Udd_iKf"
      },
      "execution_count": null,
      "outputs": []
    },
    {
      "cell_type": "code",
      "source": [
        "train_path=tf.keras.utils.get_file('iris_training.csv','https://storage.googleapis.com/download.tensorflow.org/data/iris_training.csv')\n",
        "test_path=tf.keras.utils.get_file('iris_test.csv','https://storage.googleapis.com/download.tensorflow.org/data/iris_test.csv')\n",
        "\n",
        "train=pd.read_csv(train_path,names=CSV_COUMN_NAMES, header=0)\n",
        "test=pd.read_csv(test_path,names=CSV_COUMN_NAMES, header=0)"
      ],
      "metadata": {
        "id": "PI9SsTXN_iNk",
        "outputId": "88bbe50a-5d70-499f-f924-691c144b8876",
        "colab": {
          "base_uri": "https://localhost:8080/"
        }
      },
      "execution_count": null,
      "outputs": [
        {
          "output_type": "stream",
          "name": "stdout",
          "text": [
            "Downloading data from https://storage.googleapis.com/download.tensorflow.org/data/iris_training.csv\n",
            "16384/2194 [================================================================================================================================================================================================================================] - 0s 0us/step\n",
            "Downloading data from https://storage.googleapis.com/download.tensorflow.org/data/iris_test.csv\n",
            "16384/573 [=========================================================================================================================================================================================================================================================================================================================================================================================================================================================================================================================================================================================================================================================================================================================================================================================================================================================================================] - 0s 0us/step\n"
          ]
        }
      ]
    },
    {
      "cell_type": "code",
      "source": [
        "train.head()"
      ],
      "metadata": {
        "colab": {
          "base_uri": "https://localhost:8080/",
          "height": 206
        },
        "id": "-majUZ4j_iQh",
        "outputId": "353925ed-a514-4769-99bf-2d55c9146411"
      },
      "execution_count": null,
      "outputs": [
        {
          "output_type": "execute_result",
          "data": {
            "text/html": [
              "\n",
              "  <div id=\"df-a1375f05-fae0-450e-a068-e8b09afc0829\">\n",
              "    <div class=\"colab-df-container\">\n",
              "      <div>\n",
              "<style scoped>\n",
              "    .dataframe tbody tr th:only-of-type {\n",
              "        vertical-align: middle;\n",
              "    }\n",
              "\n",
              "    .dataframe tbody tr th {\n",
              "        vertical-align: top;\n",
              "    }\n",
              "\n",
              "    .dataframe thead th {\n",
              "        text-align: right;\n",
              "    }\n",
              "</style>\n",
              "<table border=\"1\" class=\"dataframe\">\n",
              "  <thead>\n",
              "    <tr style=\"text-align: right;\">\n",
              "      <th></th>\n",
              "      <th>SepalLength</th>\n",
              "      <th>SpalWidth</th>\n",
              "      <th>PetalLength</th>\n",
              "      <th>PetalWidth</th>\n",
              "      <th>Species</th>\n",
              "    </tr>\n",
              "  </thead>\n",
              "  <tbody>\n",
              "    <tr>\n",
              "      <th>0</th>\n",
              "      <td>6.4</td>\n",
              "      <td>2.8</td>\n",
              "      <td>5.6</td>\n",
              "      <td>2.2</td>\n",
              "      <td>2</td>\n",
              "    </tr>\n",
              "    <tr>\n",
              "      <th>1</th>\n",
              "      <td>5.0</td>\n",
              "      <td>2.3</td>\n",
              "      <td>3.3</td>\n",
              "      <td>1.0</td>\n",
              "      <td>1</td>\n",
              "    </tr>\n",
              "    <tr>\n",
              "      <th>2</th>\n",
              "      <td>4.9</td>\n",
              "      <td>2.5</td>\n",
              "      <td>4.5</td>\n",
              "      <td>1.7</td>\n",
              "      <td>2</td>\n",
              "    </tr>\n",
              "    <tr>\n",
              "      <th>3</th>\n",
              "      <td>4.9</td>\n",
              "      <td>3.1</td>\n",
              "      <td>1.5</td>\n",
              "      <td>0.1</td>\n",
              "      <td>0</td>\n",
              "    </tr>\n",
              "    <tr>\n",
              "      <th>4</th>\n",
              "      <td>5.7</td>\n",
              "      <td>3.8</td>\n",
              "      <td>1.7</td>\n",
              "      <td>0.3</td>\n",
              "      <td>0</td>\n",
              "    </tr>\n",
              "  </tbody>\n",
              "</table>\n",
              "</div>\n",
              "      <button class=\"colab-df-convert\" onclick=\"convertToInteractive('df-a1375f05-fae0-450e-a068-e8b09afc0829')\"\n",
              "              title=\"Convert this dataframe to an interactive table.\"\n",
              "              style=\"display:none;\">\n",
              "        \n",
              "  <svg xmlns=\"http://www.w3.org/2000/svg\" height=\"24px\"viewBox=\"0 0 24 24\"\n",
              "       width=\"24px\">\n",
              "    <path d=\"M0 0h24v24H0V0z\" fill=\"none\"/>\n",
              "    <path d=\"M18.56 5.44l.94 2.06.94-2.06 2.06-.94-2.06-.94-.94-2.06-.94 2.06-2.06.94zm-11 1L8.5 8.5l.94-2.06 2.06-.94-2.06-.94L8.5 2.5l-.94 2.06-2.06.94zm10 10l.94 2.06.94-2.06 2.06-.94-2.06-.94-.94-2.06-.94 2.06-2.06.94z\"/><path d=\"M17.41 7.96l-1.37-1.37c-.4-.4-.92-.59-1.43-.59-.52 0-1.04.2-1.43.59L10.3 9.45l-7.72 7.72c-.78.78-.78 2.05 0 2.83L4 21.41c.39.39.9.59 1.41.59.51 0 1.02-.2 1.41-.59l7.78-7.78 2.81-2.81c.8-.78.8-2.07 0-2.86zM5.41 20L4 18.59l7.72-7.72 1.47 1.35L5.41 20z\"/>\n",
              "  </svg>\n",
              "      </button>\n",
              "      \n",
              "  <style>\n",
              "    .colab-df-container {\n",
              "      display:flex;\n",
              "      flex-wrap:wrap;\n",
              "      gap: 12px;\n",
              "    }\n",
              "\n",
              "    .colab-df-convert {\n",
              "      background-color: #E8F0FE;\n",
              "      border: none;\n",
              "      border-radius: 50%;\n",
              "      cursor: pointer;\n",
              "      display: none;\n",
              "      fill: #1967D2;\n",
              "      height: 32px;\n",
              "      padding: 0 0 0 0;\n",
              "      width: 32px;\n",
              "    }\n",
              "\n",
              "    .colab-df-convert:hover {\n",
              "      background-color: #E2EBFA;\n",
              "      box-shadow: 0px 1px 2px rgba(60, 64, 67, 0.3), 0px 1px 3px 1px rgba(60, 64, 67, 0.15);\n",
              "      fill: #174EA6;\n",
              "    }\n",
              "\n",
              "    [theme=dark] .colab-df-convert {\n",
              "      background-color: #3B4455;\n",
              "      fill: #D2E3FC;\n",
              "    }\n",
              "\n",
              "    [theme=dark] .colab-df-convert:hover {\n",
              "      background-color: #434B5C;\n",
              "      box-shadow: 0px 1px 3px 1px rgba(0, 0, 0, 0.15);\n",
              "      filter: drop-shadow(0px 1px 2px rgba(0, 0, 0, 0.3));\n",
              "      fill: #FFFFFF;\n",
              "    }\n",
              "  </style>\n",
              "\n",
              "      <script>\n",
              "        const buttonEl =\n",
              "          document.querySelector('#df-a1375f05-fae0-450e-a068-e8b09afc0829 button.colab-df-convert');\n",
              "        buttonEl.style.display =\n",
              "          google.colab.kernel.accessAllowed ? 'block' : 'none';\n",
              "\n",
              "        async function convertToInteractive(key) {\n",
              "          const element = document.querySelector('#df-a1375f05-fae0-450e-a068-e8b09afc0829');\n",
              "          const dataTable =\n",
              "            await google.colab.kernel.invokeFunction('convertToInteractive',\n",
              "                                                     [key], {});\n",
              "          if (!dataTable) return;\n",
              "\n",
              "          const docLinkHtml = 'Like what you see? Visit the ' +\n",
              "            '<a target=\"_blank\" href=https://colab.research.google.com/notebooks/data_table.ipynb>data table notebook</a>'\n",
              "            + ' to learn more about interactive tables.';\n",
              "          element.innerHTML = '';\n",
              "          dataTable['output_type'] = 'display_data';\n",
              "          await google.colab.output.renderOutput(dataTable, element);\n",
              "          const docLink = document.createElement('div');\n",
              "          docLink.innerHTML = docLinkHtml;\n",
              "          element.appendChild(docLink);\n",
              "        }\n",
              "      </script>\n",
              "    </div>\n",
              "  </div>\n",
              "  "
            ],
            "text/plain": [
              "   SepalLength  SpalWidth  PetalLength  PetalWidth  Species\n",
              "0          6.4        2.8          5.6         2.2        2\n",
              "1          5.0        2.3          3.3         1.0        1\n",
              "2          4.9        2.5          4.5         1.7        2\n",
              "3          4.9        3.1          1.5         0.1        0\n",
              "4          5.7        3.8          1.7         0.3        0"
            ]
          },
          "metadata": {},
          "execution_count": 7
        }
      ]
    },
    {
      "cell_type": "code",
      "source": [
        "train_y=train.pop('Species')\n",
        "test_y=test.pop('Species')"
      ],
      "metadata": {
        "id": "D51PKihg_iTe"
      },
      "execution_count": null,
      "outputs": []
    },
    {
      "cell_type": "code",
      "source": [
        "train.shape"
      ],
      "metadata": {
        "colab": {
          "base_uri": "https://localhost:8080/"
        },
        "id": "yskPg4ONCUpP",
        "outputId": "6685893b-379a-44c2-bf0b-f6dfde30f4e7"
      },
      "execution_count": null,
      "outputs": [
        {
          "output_type": "execute_result",
          "data": {
            "text/plain": [
              "(120, 4)"
            ]
          },
          "metadata": {},
          "execution_count": 9
        }
      ]
    },
    {
      "cell_type": "markdown",
      "source": [
        "input function \n"
      ],
      "metadata": {
        "id": "cbHskvjqCuy9"
      }
    },
    {
      "cell_type": "code",
      "source": [
        "def input_fn(features,labels,training=True,batch_size=256):\n",
        "  #convert input to dataset\n",
        "  dataset=tf.data.Dataset.from_tensor_slices((dict(features),labels))\n",
        "  if training:\n",
        "        #shaffle and repeat if you are in training mode\n",
        "        dataset=dataset.shuffle(1000).repeat()\n",
        "  return dataset.batch(batch_size)"
      ],
      "metadata": {
        "id": "3MHPjKpCCqgD"
      },
      "execution_count": null,
      "outputs": []
    },
    {
      "cell_type": "markdown",
      "source": [
        "feature columns"
      ],
      "metadata": {
        "id": "xFxqLSYcEEuP"
      }
    },
    {
      "cell_type": "code",
      "source": [
        "my_feature_columns=[]\n",
        "\n",
        "for key in train.keys():\n",
        "  my_feature_columns.append(tf.feature_column.numeric_column(key=key))\n",
        "\n",
        "print(my_feature_columns)"
      ],
      "metadata": {
        "colab": {
          "base_uri": "https://localhost:8080/"
        },
        "id": "5BPJVyiFEDho",
        "outputId": "28b2a6ef-1473-4e34-c077-ac9324cae1a9"
      },
      "execution_count": null,
      "outputs": [
        {
          "output_type": "stream",
          "name": "stdout",
          "text": [
            "[NumericColumn(key='SepalLength', shape=(1,), default_value=None, dtype=tf.float32, normalizer_fn=None), NumericColumn(key='SpalWidth', shape=(1,), default_value=None, dtype=tf.float32, normalizer_fn=None), NumericColumn(key='PetalLength', shape=(1,), default_value=None, dtype=tf.float32, normalizer_fn=None), NumericColumn(key='PetalWidth', shape=(1,), default_value=None, dtype=tf.float32, normalizer_fn=None)]\n"
          ]
        }
      ]
    },
    {
      "cell_type": "markdown",
      "source": [
        "build the model\n",
        "- DNN classifier (deep neural network)\n",
        "- LinearClassifier"
      ],
      "metadata": {
        "id": "3TmQKRCeFKzB"
      }
    },
    {
      "cell_type": "code",
      "source": [
        "#build a DNN with 2 hidden layers with 30 and 10 hidden nodes each \n",
        "classifier=tf.estimator.DNNClassifier(\n",
        "    feature_columns=my_feature_columns,\n",
        "    #two hodden layer of 30 and 10 nodes respectibely\n",
        "    hidden_units=[30,10],\n",
        "    #the model must choose between 3 classes.\n",
        "    n_classes=3\n",
        "\n",
        ")"
      ],
      "metadata": {
        "colab": {
          "base_uri": "https://localhost:8080/"
        },
        "id": "SZPkzjyHCUs8",
        "outputId": "a4755fc1-43ae-44c3-d11c-9b1bfb601b2c"
      },
      "execution_count": null,
      "outputs": [
        {
          "output_type": "stream",
          "name": "stdout",
          "text": [
            "INFO:tensorflow:Using default config.\n",
            "WARNING:tensorflow:Using temporary folder as model directory: /tmp/tmp7p27pkqa\n",
            "INFO:tensorflow:Using config: {'_model_dir': '/tmp/tmp7p27pkqa', '_tf_random_seed': None, '_save_summary_steps': 100, '_save_checkpoints_steps': None, '_save_checkpoints_secs': 600, '_session_config': allow_soft_placement: true\n",
            "graph_options {\n",
            "  rewrite_options {\n",
            "    meta_optimizer_iterations: ONE\n",
            "  }\n",
            "}\n",
            ", '_keep_checkpoint_max': 5, '_keep_checkpoint_every_n_hours': 10000, '_log_step_count_steps': 100, '_train_distribute': None, '_device_fn': None, '_protocol': None, '_eval_distribute': None, '_experimental_distribute': None, '_experimental_max_worker_delay_secs': None, '_session_creation_timeout_secs': 7200, '_checkpoint_save_graph_def': True, '_service': None, '_cluster_spec': ClusterSpec({}), '_task_type': 'worker', '_task_id': 0, '_global_id_in_cluster': 0, '_master': '', '_evaluation_master': '', '_is_chief': True, '_num_ps_replicas': 0, '_num_worker_replicas': 1}\n"
          ]
        }
      ]
    },
    {
      "cell_type": "code",
      "source": [
        "classifier.train(\n",
        "    input_fn=lambda:input_fn(train,train_y,training=True),\n",
        " steps=5000 #as epoch\n",
        ")"
      ],
      "metadata": {
        "colab": {
          "base_uri": "https://localhost:8080/"
        },
        "id": "sMhUIIy2_iWi",
        "outputId": "e86cfe6f-65d6-4baa-ff3a-aba7b724692b"
      },
      "execution_count": null,
      "outputs": [
        {
          "output_type": "stream",
          "name": "stdout",
          "text": [
            "WARNING:tensorflow:From /usr/local/lib/python3.7/dist-packages/tensorflow/python/training/training_util.py:401: Variable.initialized_value (from tensorflow.python.ops.variables) is deprecated and will be removed in a future version.\n",
            "Instructions for updating:\n",
            "Use Variable.read_value. Variables in 2.X are initialized automatically both in eager and graph (inside tf.defun) contexts.\n",
            "INFO:tensorflow:Calling model_fn.\n",
            "WARNING:tensorflow:From /usr/local/lib/python3.7/dist-packages/keras/optimizer_v2/adagrad.py:84: calling Constant.__init__ (from tensorflow.python.ops.init_ops) with dtype is deprecated and will be removed in a future version.\n",
            "Instructions for updating:\n",
            "Call initializer instance with the dtype argument instead of passing it to the constructor\n",
            "INFO:tensorflow:Done calling model_fn.\n",
            "INFO:tensorflow:Create CheckpointSaverHook.\n",
            "INFO:tensorflow:Graph was finalized.\n",
            "INFO:tensorflow:Running local_init_op.\n",
            "INFO:tensorflow:Done running local_init_op.\n",
            "INFO:tensorflow:Calling checkpoint listeners before saving checkpoint 0...\n",
            "INFO:tensorflow:Saving checkpoints for 0 into /tmp/tmp7p27pkqa/model.ckpt.\n",
            "INFO:tensorflow:Calling checkpoint listeners after saving checkpoint 0...\n",
            "INFO:tensorflow:loss = 1.5801326, step = 0\n",
            "INFO:tensorflow:global_step/sec: 365.351\n",
            "INFO:tensorflow:loss = 1.2876277, step = 100 (0.279 sec)\n",
            "INFO:tensorflow:global_step/sec: 448.962\n",
            "INFO:tensorflow:loss = 1.170839, step = 200 (0.223 sec)\n",
            "INFO:tensorflow:global_step/sec: 424.001\n",
            "INFO:tensorflow:loss = 1.1175039, step = 300 (0.233 sec)\n",
            "INFO:tensorflow:global_step/sec: 381.958\n",
            "INFO:tensorflow:loss = 1.0902617, step = 400 (0.266 sec)\n",
            "INFO:tensorflow:global_step/sec: 403.373\n",
            "INFO:tensorflow:loss = 1.057168, step = 500 (0.246 sec)\n",
            "INFO:tensorflow:global_step/sec: 354.376\n",
            "INFO:tensorflow:loss = 1.0269197, step = 600 (0.280 sec)\n",
            "INFO:tensorflow:global_step/sec: 433.113\n",
            "INFO:tensorflow:loss = 0.99431777, step = 700 (0.234 sec)\n",
            "INFO:tensorflow:global_step/sec: 426.669\n",
            "INFO:tensorflow:loss = 0.97621596, step = 800 (0.231 sec)\n",
            "INFO:tensorflow:global_step/sec: 439.922\n",
            "INFO:tensorflow:loss = 0.9612593, step = 900 (0.228 sec)\n",
            "INFO:tensorflow:global_step/sec: 410.841\n",
            "INFO:tensorflow:loss = 0.9332517, step = 1000 (0.245 sec)\n",
            "INFO:tensorflow:global_step/sec: 416.601\n",
            "INFO:tensorflow:loss = 0.91638863, step = 1100 (0.238 sec)\n",
            "INFO:tensorflow:global_step/sec: 417.925\n",
            "INFO:tensorflow:loss = 0.90923345, step = 1200 (0.241 sec)\n",
            "INFO:tensorflow:global_step/sec: 433.025\n",
            "INFO:tensorflow:loss = 0.8861605, step = 1300 (0.235 sec)\n",
            "INFO:tensorflow:global_step/sec: 401.643\n",
            "INFO:tensorflow:loss = 0.8642514, step = 1400 (0.242 sec)\n",
            "INFO:tensorflow:global_step/sec: 432.401\n",
            "INFO:tensorflow:loss = 0.8574907, step = 1500 (0.235 sec)\n",
            "INFO:tensorflow:global_step/sec: 447.951\n",
            "INFO:tensorflow:loss = 0.8423174, step = 1600 (0.222 sec)\n",
            "INFO:tensorflow:global_step/sec: 370.998\n",
            "INFO:tensorflow:loss = 0.8331616, step = 1700 (0.269 sec)\n",
            "INFO:tensorflow:global_step/sec: 377.691\n",
            "INFO:tensorflow:loss = 0.81854755, step = 1800 (0.266 sec)\n",
            "INFO:tensorflow:global_step/sec: 409.326\n",
            "INFO:tensorflow:loss = 0.81743634, step = 1900 (0.244 sec)\n",
            "INFO:tensorflow:global_step/sec: 402.231\n",
            "INFO:tensorflow:loss = 0.79060763, step = 2000 (0.248 sec)\n",
            "INFO:tensorflow:global_step/sec: 445.763\n",
            "INFO:tensorflow:loss = 0.77186406, step = 2100 (0.224 sec)\n",
            "INFO:tensorflow:global_step/sec: 425.232\n",
            "INFO:tensorflow:loss = 0.77519053, step = 2200 (0.236 sec)\n",
            "INFO:tensorflow:global_step/sec: 361.227\n",
            "INFO:tensorflow:loss = 0.7450766, step = 2300 (0.277 sec)\n",
            "INFO:tensorflow:global_step/sec: 453.413\n",
            "INFO:tensorflow:loss = 0.74396276, step = 2400 (0.222 sec)\n",
            "INFO:tensorflow:global_step/sec: 389.961\n",
            "INFO:tensorflow:loss = 0.72301555, step = 2500 (0.255 sec)\n",
            "INFO:tensorflow:global_step/sec: 431.589\n",
            "INFO:tensorflow:loss = 0.71829665, step = 2600 (0.230 sec)\n",
            "INFO:tensorflow:global_step/sec: 398.509\n",
            "INFO:tensorflow:loss = 0.71196115, step = 2700 (0.249 sec)\n",
            "INFO:tensorflow:global_step/sec: 412.027\n",
            "INFO:tensorflow:loss = 0.69939196, step = 2800 (0.247 sec)\n",
            "WARNING:tensorflow:It seems that global step (tf.train.get_global_step) has not been increased. Current value (could be stable): 2819 vs previous value: 2819. You could increase the global step by passing tf.train.get_global_step() to Optimizer.apply_gradients or Optimizer.minimize.\n",
            "INFO:tensorflow:global_step/sec: 431.184\n",
            "INFO:tensorflow:loss = 0.68986106, step = 2900 (0.233 sec)\n",
            "INFO:tensorflow:global_step/sec: 410.584\n",
            "INFO:tensorflow:loss = 0.6773141, step = 3000 (0.239 sec)\n",
            "INFO:tensorflow:global_step/sec: 407.065\n",
            "INFO:tensorflow:loss = 0.6815425, step = 3100 (0.247 sec)\n",
            "INFO:tensorflow:global_step/sec: 370.501\n",
            "INFO:tensorflow:loss = 0.6773803, step = 3200 (0.272 sec)\n",
            "INFO:tensorflow:global_step/sec: 400.779\n",
            "INFO:tensorflow:loss = 0.6474649, step = 3300 (0.248 sec)\n",
            "INFO:tensorflow:global_step/sec: 446.415\n",
            "INFO:tensorflow:loss = 0.6338434, step = 3400 (0.227 sec)\n",
            "INFO:tensorflow:global_step/sec: 428.815\n",
            "INFO:tensorflow:loss = 0.63480496, step = 3500 (0.230 sec)\n",
            "INFO:tensorflow:global_step/sec: 409.494\n",
            "INFO:tensorflow:loss = 0.6324543, step = 3600 (0.246 sec)\n",
            "INFO:tensorflow:global_step/sec: 451.859\n",
            "INFO:tensorflow:loss = 0.62214243, step = 3700 (0.221 sec)\n",
            "INFO:tensorflow:global_step/sec: 414.968\n",
            "INFO:tensorflow:loss = 0.6222335, step = 3800 (0.238 sec)\n",
            "INFO:tensorflow:global_step/sec: 420.328\n",
            "INFO:tensorflow:loss = 0.6082628, step = 3900 (0.238 sec)\n",
            "INFO:tensorflow:global_step/sec: 397.91\n",
            "INFO:tensorflow:loss = 0.5949073, step = 4000 (0.254 sec)\n",
            "INFO:tensorflow:global_step/sec: 450.082\n",
            "INFO:tensorflow:loss = 0.59266114, step = 4100 (0.220 sec)\n",
            "INFO:tensorflow:global_step/sec: 457.585\n",
            "INFO:tensorflow:loss = 0.5896549, step = 4200 (0.221 sec)\n",
            "INFO:tensorflow:global_step/sec: 424.097\n",
            "INFO:tensorflow:loss = 0.58472216, step = 4300 (0.232 sec)\n",
            "INFO:tensorflow:global_step/sec: 471.444\n",
            "INFO:tensorflow:loss = 0.5701963, step = 4400 (0.216 sec)\n",
            "INFO:tensorflow:global_step/sec: 447.306\n",
            "INFO:tensorflow:loss = 0.5728272, step = 4500 (0.220 sec)\n",
            "INFO:tensorflow:global_step/sec: 480.558\n",
            "INFO:tensorflow:loss = 0.5551965, step = 4600 (0.212 sec)\n",
            "INFO:tensorflow:global_step/sec: 464.157\n",
            "INFO:tensorflow:loss = 0.55164325, step = 4700 (0.214 sec)\n",
            "INFO:tensorflow:global_step/sec: 443.352\n",
            "INFO:tensorflow:loss = 0.5472568, step = 4800 (0.226 sec)\n",
            "INFO:tensorflow:global_step/sec: 386.426\n",
            "INFO:tensorflow:loss = 0.5425401, step = 4900 (0.259 sec)\n",
            "INFO:tensorflow:Calling checkpoint listeners before saving checkpoint 5000...\n",
            "INFO:tensorflow:Saving checkpoints for 5000 into /tmp/tmp7p27pkqa/model.ckpt.\n",
            "INFO:tensorflow:Calling checkpoint listeners after saving checkpoint 5000...\n",
            "INFO:tensorflow:Loss for final step: 0.53753316.\n"
          ]
        },
        {
          "output_type": "execute_result",
          "data": {
            "text/plain": [
              "<tensorflow_estimator.python.estimator.canned.dnn.DNNClassifierV2 at 0x7f82bff87bd0>"
            ]
          },
          "metadata": {},
          "execution_count": 13
        }
      ]
    },
    {
      "cell_type": "code",
      "source": [
        "eval_result=classifier.evaluate(input_fn=lambda: input_fn(test,test_y,training=False))\n",
        "print('\\nTest set Accuracy: {accuracy:0.2f}\\n'.format(**eval_result))"
      ],
      "metadata": {
        "id": "IweU2JqSKhyQ",
        "outputId": "10d7e5d1-bacb-4b5d-b433-defdc9fc67fa",
        "colab": {
          "base_uri": "https://localhost:8080/"
        }
      },
      "execution_count": null,
      "outputs": [
        {
          "output_type": "stream",
          "name": "stdout",
          "text": [
            "INFO:tensorflow:Calling model_fn.\n",
            "INFO:tensorflow:Done calling model_fn.\n",
            "INFO:tensorflow:Starting evaluation at 2022-01-11T09:13:36\n",
            "INFO:tensorflow:Graph was finalized.\n",
            "INFO:tensorflow:Restoring parameters from /tmp/tmp7p27pkqa/model.ckpt-5000\n",
            "INFO:tensorflow:Running local_init_op.\n",
            "INFO:tensorflow:Done running local_init_op.\n",
            "INFO:tensorflow:Inference Time : 0.25134s\n",
            "INFO:tensorflow:Finished evaluation at 2022-01-11-09:13:36\n",
            "INFO:tensorflow:Saving dict for global step 5000: accuracy = 0.7, average_loss = 0.6241022, global_step = 5000, loss = 0.6241022\n",
            "INFO:tensorflow:Saving 'checkpoint_path' summary for global step 5000: /tmp/tmp7p27pkqa/model.ckpt-5000\n",
            "\n",
            "Test set Accuracy: 0.70\n",
            "\n"
          ]
        }
      ]
    },
    {
      "cell_type": "code",
      "source": [
        ""
      ],
      "metadata": {
        "id": "Jgbz5WT9bhAx"
      },
      "execution_count": null,
      "outputs": []
    },
    {
      "cell_type": "code",
      "source": [
        "\n",
        "def input_fn(features, batch_size=256):\n",
        "  # Convert the inputs to a Dataset without labels.\n",
        "  return tf.data.Dataset.from_tensor_slices(dict (features)).batch(batch_size)\n",
        "#'SepalLength','SpalWidth','PetalLength','PetalWidth','Species\n",
        "features = ['SepalLength','SpalWidth','PetalLength','PetalWidth']\n",
        "predict={} \n",
        "\n",
        "print (\"Please type numeric values as prompted.\")\n",
        "for feature in features:\n",
        "  valid = True\n",
        "  while valid:\n",
        "    val = input (feature + \": \")\n",
        "    if not val.isdigit(): valid = False\n",
        "  predict[feature] = [float(val)]\n",
        "predictions = classifier.predict (input_fn=lambda: input_fn(predict))\n",
        "for pred_dict in predictions:\n",
        "  class_id = pred_dict['class_ids'][0]\n",
        "  probability = pred_dict['probabilities'][class_id]\n",
        "  print ('Prediction is \"{}\" ({:.1f}%)' . format (SPECIES[class_id], 100 * probability))\n"
      ],
      "metadata": {
        "id": "8jLlz6tObYBy",
        "colab": {
          "base_uri": "https://localhost:8080/"
        },
        "outputId": "bb48a14e-a287-43ce-ffbe-5c06ef491c3b"
      },
      "execution_count": null,
      "outputs": [
        {
          "output_type": "stream",
          "name": "stdout",
          "text": [
            "Please type numeric values as prompted.\n",
            "SepalLength: 152.2\n",
            "SpalWidth: 15.2\n",
            "PetalLength: 2.2\n",
            "PetalWidth: 3.3\n",
            "INFO:tensorflow:Calling model_fn.\n",
            "INFO:tensorflow:Done calling model_fn.\n",
            "INFO:tensorflow:Graph was finalized.\n",
            "INFO:tensorflow:Restoring parameters from /tmp/tmp7p27pkqa/model.ckpt-5000\n",
            "INFO:tensorflow:Running local_init_op.\n",
            "INFO:tensorflow:Done running local_init_op.\n",
            "Prediction is \"Versicolor\" (100.0%)\n"
          ]
        }
      ]
    },
    {
      "cell_type": "code",
      "source": [
        "train[train.SepalLength>1\n",
        "      ]"
      ],
      "metadata": {
        "colab": {
          "base_uri": "https://localhost:8080/",
          "height": 424
        },
        "id": "8W5QhLXqbZ0n",
        "outputId": "ba405fa6-fee1-4640-b3b3-4ead93423300"
      },
      "execution_count": null,
      "outputs": [
        {
          "output_type": "execute_result",
          "data": {
            "text/html": [
              "\n",
              "  <div id=\"df-d426d977-030d-4b41-a9a1-9cb2c58fa601\">\n",
              "    <div class=\"colab-df-container\">\n",
              "      <div>\n",
              "<style scoped>\n",
              "    .dataframe tbody tr th:only-of-type {\n",
              "        vertical-align: middle;\n",
              "    }\n",
              "\n",
              "    .dataframe tbody tr th {\n",
              "        vertical-align: top;\n",
              "    }\n",
              "\n",
              "    .dataframe thead th {\n",
              "        text-align: right;\n",
              "    }\n",
              "</style>\n",
              "<table border=\"1\" class=\"dataframe\">\n",
              "  <thead>\n",
              "    <tr style=\"text-align: right;\">\n",
              "      <th></th>\n",
              "      <th>SepalLength</th>\n",
              "      <th>SpalWidth</th>\n",
              "      <th>PetalLength</th>\n",
              "      <th>PetalWidth</th>\n",
              "    </tr>\n",
              "  </thead>\n",
              "  <tbody>\n",
              "    <tr>\n",
              "      <th>0</th>\n",
              "      <td>6.4</td>\n",
              "      <td>2.8</td>\n",
              "      <td>5.6</td>\n",
              "      <td>2.2</td>\n",
              "    </tr>\n",
              "    <tr>\n",
              "      <th>1</th>\n",
              "      <td>5.0</td>\n",
              "      <td>2.3</td>\n",
              "      <td>3.3</td>\n",
              "      <td>1.0</td>\n",
              "    </tr>\n",
              "    <tr>\n",
              "      <th>2</th>\n",
              "      <td>4.9</td>\n",
              "      <td>2.5</td>\n",
              "      <td>4.5</td>\n",
              "      <td>1.7</td>\n",
              "    </tr>\n",
              "    <tr>\n",
              "      <th>3</th>\n",
              "      <td>4.9</td>\n",
              "      <td>3.1</td>\n",
              "      <td>1.5</td>\n",
              "      <td>0.1</td>\n",
              "    </tr>\n",
              "    <tr>\n",
              "      <th>4</th>\n",
              "      <td>5.7</td>\n",
              "      <td>3.8</td>\n",
              "      <td>1.7</td>\n",
              "      <td>0.3</td>\n",
              "    </tr>\n",
              "    <tr>\n",
              "      <th>...</th>\n",
              "      <td>...</td>\n",
              "      <td>...</td>\n",
              "      <td>...</td>\n",
              "      <td>...</td>\n",
              "    </tr>\n",
              "    <tr>\n",
              "      <th>115</th>\n",
              "      <td>5.5</td>\n",
              "      <td>2.6</td>\n",
              "      <td>4.4</td>\n",
              "      <td>1.2</td>\n",
              "    </tr>\n",
              "    <tr>\n",
              "      <th>116</th>\n",
              "      <td>5.7</td>\n",
              "      <td>3.0</td>\n",
              "      <td>4.2</td>\n",
              "      <td>1.2</td>\n",
              "    </tr>\n",
              "    <tr>\n",
              "      <th>117</th>\n",
              "      <td>4.4</td>\n",
              "      <td>2.9</td>\n",
              "      <td>1.4</td>\n",
              "      <td>0.2</td>\n",
              "    </tr>\n",
              "    <tr>\n",
              "      <th>118</th>\n",
              "      <td>4.8</td>\n",
              "      <td>3.0</td>\n",
              "      <td>1.4</td>\n",
              "      <td>0.1</td>\n",
              "    </tr>\n",
              "    <tr>\n",
              "      <th>119</th>\n",
              "      <td>5.5</td>\n",
              "      <td>2.4</td>\n",
              "      <td>3.7</td>\n",
              "      <td>1.0</td>\n",
              "    </tr>\n",
              "  </tbody>\n",
              "</table>\n",
              "<p>120 rows × 4 columns</p>\n",
              "</div>\n",
              "      <button class=\"colab-df-convert\" onclick=\"convertToInteractive('df-d426d977-030d-4b41-a9a1-9cb2c58fa601')\"\n",
              "              title=\"Convert this dataframe to an interactive table.\"\n",
              "              style=\"display:none;\">\n",
              "        \n",
              "  <svg xmlns=\"http://www.w3.org/2000/svg\" height=\"24px\"viewBox=\"0 0 24 24\"\n",
              "       width=\"24px\">\n",
              "    <path d=\"M0 0h24v24H0V0z\" fill=\"none\"/>\n",
              "    <path d=\"M18.56 5.44l.94 2.06.94-2.06 2.06-.94-2.06-.94-.94-2.06-.94 2.06-2.06.94zm-11 1L8.5 8.5l.94-2.06 2.06-.94-2.06-.94L8.5 2.5l-.94 2.06-2.06.94zm10 10l.94 2.06.94-2.06 2.06-.94-2.06-.94-.94-2.06-.94 2.06-2.06.94z\"/><path d=\"M17.41 7.96l-1.37-1.37c-.4-.4-.92-.59-1.43-.59-.52 0-1.04.2-1.43.59L10.3 9.45l-7.72 7.72c-.78.78-.78 2.05 0 2.83L4 21.41c.39.39.9.59 1.41.59.51 0 1.02-.2 1.41-.59l7.78-7.78 2.81-2.81c.8-.78.8-2.07 0-2.86zM5.41 20L4 18.59l7.72-7.72 1.47 1.35L5.41 20z\"/>\n",
              "  </svg>\n",
              "      </button>\n",
              "      \n",
              "  <style>\n",
              "    .colab-df-container {\n",
              "      display:flex;\n",
              "      flex-wrap:wrap;\n",
              "      gap: 12px;\n",
              "    }\n",
              "\n",
              "    .colab-df-convert {\n",
              "      background-color: #E8F0FE;\n",
              "      border: none;\n",
              "      border-radius: 50%;\n",
              "      cursor: pointer;\n",
              "      display: none;\n",
              "      fill: #1967D2;\n",
              "      height: 32px;\n",
              "      padding: 0 0 0 0;\n",
              "      width: 32px;\n",
              "    }\n",
              "\n",
              "    .colab-df-convert:hover {\n",
              "      background-color: #E2EBFA;\n",
              "      box-shadow: 0px 1px 2px rgba(60, 64, 67, 0.3), 0px 1px 3px 1px rgba(60, 64, 67, 0.15);\n",
              "      fill: #174EA6;\n",
              "    }\n",
              "\n",
              "    [theme=dark] .colab-df-convert {\n",
              "      background-color: #3B4455;\n",
              "      fill: #D2E3FC;\n",
              "    }\n",
              "\n",
              "    [theme=dark] .colab-df-convert:hover {\n",
              "      background-color: #434B5C;\n",
              "      box-shadow: 0px 1px 3px 1px rgba(0, 0, 0, 0.15);\n",
              "      filter: drop-shadow(0px 1px 2px rgba(0, 0, 0, 0.3));\n",
              "      fill: #FFFFFF;\n",
              "    }\n",
              "  </style>\n",
              "\n",
              "      <script>\n",
              "        const buttonEl =\n",
              "          document.querySelector('#df-d426d977-030d-4b41-a9a1-9cb2c58fa601 button.colab-df-convert');\n",
              "        buttonEl.style.display =\n",
              "          google.colab.kernel.accessAllowed ? 'block' : 'none';\n",
              "\n",
              "        async function convertToInteractive(key) {\n",
              "          const element = document.querySelector('#df-d426d977-030d-4b41-a9a1-9cb2c58fa601');\n",
              "          const dataTable =\n",
              "            await google.colab.kernel.invokeFunction('convertToInteractive',\n",
              "                                                     [key], {});\n",
              "          if (!dataTable) return;\n",
              "\n",
              "          const docLinkHtml = 'Like what you see? Visit the ' +\n",
              "            '<a target=\"_blank\" href=https://colab.research.google.com/notebooks/data_table.ipynb>data table notebook</a>'\n",
              "            + ' to learn more about interactive tables.';\n",
              "          element.innerHTML = '';\n",
              "          dataTable['output_type'] = 'display_data';\n",
              "          await google.colab.output.renderOutput(dataTable, element);\n",
              "          const docLink = document.createElement('div');\n",
              "          docLink.innerHTML = docLinkHtml;\n",
              "          element.appendChild(docLink);\n",
              "        }\n",
              "      </script>\n",
              "    </div>\n",
              "  </div>\n",
              "  "
            ],
            "text/plain": [
              "     SepalLength  SpalWidth  PetalLength  PetalWidth\n",
              "0            6.4        2.8          5.6         2.2\n",
              "1            5.0        2.3          3.3         1.0\n",
              "2            4.9        2.5          4.5         1.7\n",
              "3            4.9        3.1          1.5         0.1\n",
              "4            5.7        3.8          1.7         0.3\n",
              "..           ...        ...          ...         ...\n",
              "115          5.5        2.6          4.4         1.2\n",
              "116          5.7        3.0          4.2         1.2\n",
              "117          4.4        2.9          1.4         0.2\n",
              "118          4.8        3.0          1.4         0.1\n",
              "119          5.5        2.4          3.7         1.0\n",
              "\n",
              "[120 rows x 4 columns]"
            ]
          },
          "metadata": {},
          "execution_count": 48
        }
      ]
    },
    {
      "cell_type": "code",
      "source": [
        ""
      ],
      "metadata": {
        "id": "hgkei1w9bWVg"
      },
      "execution_count": null,
      "outputs": []
    }
  ]
}